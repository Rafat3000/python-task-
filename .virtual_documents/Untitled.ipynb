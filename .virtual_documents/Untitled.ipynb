


list=[1,2,3,4,5]
largest_El =list[0]
for x in list:
    if x > largest_El:
        largest_El= x
print(largest_El)
     


text='I love python'
count =0
words = text.split() 
for word in words: 
    count +=1
print(count)


text ='Hello'
count = 0 
vowels='aeiouAEIOU'
for x in text:
    if x in vowels:
        count +=1
print(count)


# Find the Length of a String
text ='Hello python'
text_only = text.replace(' ', '')
len(text_only)


# Find Even Numbers in a list
list = [ 1,2,3,4,5,6,7,8,9,10]
even_num =[]
for x in list :
    if x % 2==0 :
        even_num.append(x)
print(even_num)


#Reverse a String
list = [ 1,2,3,4,5,6,7,8,9,10]
list.reverse()
print(list)


# Sum of All Elements in a List
list = [ 1,2,3,4,5,6,7,8,9,10]
print(sum(list))



