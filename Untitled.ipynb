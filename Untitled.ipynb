{
 "cells": [
  {
   "cell_type": "markdown",
   "id": "dbde0519-fa4a-48ca-ab81-b6ae28053722",
   "metadata": {},
   "source": [
    "Find the Largest Element in a List\n",
    "\n",
    " - Word Frequency Counter\n",
    "\n",
    " - Count Vowels in a String"
   ]
  },
  {
   "cell_type": "code",
   "execution_count": 4,
   "id": "02421cfc-93e2-463d-a155-05ecc44cc2f6",
   "metadata": {},
   "outputs": [
    {
     "name": "stdout",
     "output_type": "stream",
     "text": [
      "5\n"
     ]
    }
   ],
   "source": [
    "list=[1,2,3,4,5]\n",
    "largest_El =list[0]\n",
    "for x in list:\n",
    "    if x > largest_El:\n",
    "        largest_El= x\n",
    "print(largest_El)\n",
    "     "
   ]
  },
  {
   "cell_type": "code",
   "execution_count": 11,
   "id": "cee417f7-82a6-4932-a1c0-b8ca79704e2e",
   "metadata": {},
   "outputs": [
    {
     "name": "stdout",
     "output_type": "stream",
     "text": [
      "3\n"
     ]
    }
   ],
   "source": [
    "text='I love python'\n",
    "count =0\n",
    "words = text.split() \n",
    "for word in words: \n",
    "    count +=1\n",
    "print(count)"
   ]
  },
  {
   "cell_type": "code",
   "execution_count": 15,
   "id": "ca1dfed1-e37c-4966-855e-a7e56c733e39",
   "metadata": {},
   "outputs": [
    {
     "name": "stdout",
     "output_type": "stream",
     "text": [
      "2\n"
     ]
    }
   ],
   "source": [
    "text ='Hello'\n",
    "count = 0 \n",
    "vowels='aeiouAEIOU'\n",
    "for x in text:\n",
    "    if x in vowels:\n",
    "        count +=1\n",
    "print(count)"
   ]
  },
  {
   "cell_type": "code",
   "execution_count": 21,
   "id": "3d4e68e3-4e59-432c-a734-6b8fd87fab62",
   "metadata": {},
   "outputs": [
    {
     "data": {
      "text/plain": [
       "11"
      ]
     },
     "execution_count": 21,
     "metadata": {},
     "output_type": "execute_result"
    }
   ],
   "source": [
    "# Find the Length of a String\n",
    "text ='Hello python'\n",
    "text_only = text.replace(' ', '')\n",
    "len(text_only)"
   ]
  },
  {
   "cell_type": "code",
   "execution_count": 22,
   "id": "62cfeead-69dd-4cce-b9a3-4f13e71799a4",
   "metadata": {},
   "outputs": [
    {
     "name": "stdout",
     "output_type": "stream",
     "text": [
      "[2, 4, 6, 8, 10]\n"
     ]
    }
   ],
   "source": [
    "# Find Even Numbers in a list\n",
    "list = [ 1,2,3,4,5,6,7,8,9,10]\n",
    "even_num =[]\n",
    "for x in list :\n",
    "    if x % 2==0 :\n",
    "        even_num.append(x)\n",
    "print(even_num)"
   ]
  },
  {
   "cell_type": "code",
   "execution_count": 24,
   "id": "93860a8d-c028-44e9-8cd9-c444c39f81e2",
   "metadata": {},
   "outputs": [
    {
     "name": "stdout",
     "output_type": "stream",
     "text": [
      "[10, 9, 8, 7, 6, 5, 4, 3, 2, 1]\n"
     ]
    }
   ],
   "source": [
    "#Reverse a String\n",
    "list = [ 1,2,3,4,5,6,7,8,9,10]\n",
    "list.reverse()\n",
    "print(list)"
   ]
  },
  {
   "cell_type": "code",
   "execution_count": 25,
   "id": "96c511fa-6ff8-4732-b01a-7434b17cb67c",
   "metadata": {},
   "outputs": [
    {
     "name": "stdout",
     "output_type": "stream",
     "text": [
      "55\n"
     ]
    }
   ],
   "source": [
    "# Sum of All Elements in a List\n",
    "list = [ 1,2,3,4,5,6,7,8,9,10]\n",
    "print(sum(list))"
   ]
  },
  {
   "cell_type": "code",
   "execution_count": null,
   "id": "1eb08ca4-e3e2-4363-b5a4-efe884cef050",
   "metadata": {},
   "outputs": [],
   "source": []
  }
 ],
 "metadata": {
  "kernelspec": {
   "display_name": "Python 3 (ipykernel)",
   "language": "python",
   "name": "python3"
  },
  "language_info": {
   "codemirror_mode": {
    "name": "ipython",
    "version": 3
   },
   "file_extension": ".py",
   "mimetype": "text/x-python",
   "name": "python",
   "nbconvert_exporter": "python",
   "pygments_lexer": "ipython3",
   "version": "3.12.4"
  }
 },
 "nbformat": 4,
 "nbformat_minor": 5
}
